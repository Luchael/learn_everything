{
 "cells": [
  {
   "cell_type": "code",
   "execution_count": 1,
   "metadata": {},
   "outputs": [],
   "source": [
    "import numpy as np\n",
    "import matplotlib\n",
    "import matplotlib.pyplot as plt\n",
    "import pandas as pd\n",
    "import math\n",
    "import os\n",
    "import tensorflow as tf\n",
    "from tensorflow import keras\n",
    "os.chdir('C:\\\\Users\\\\leekj\\\\Desktop\\\\programming\\\\learn_python\\\\tensorflow')\n",
    "from tensorflow.keras.models import Sequential\n",
    "from tensorflow.keras.layers import Dense\n",
    "from tensorflow.keras.optimizers import SGD, RMSprop, Adagrad, Adam"
   ]
  },
  {
   "cell_type": "code",
   "execution_count": 2,
   "metadata": {},
   "outputs": [
    {
     "data": {
      "text/plain": [
       "((60000, 28, 28), (60000,), (10000, 28, 28), (10000,))"
      ]
     },
     "execution_count": 2,
     "metadata": {},
     "output_type": "execute_result"
    }
   ],
   "source": [
    "(X_train, y_train), (X_test, y_test) = keras.datasets.mnist.load_data()\n",
    "X_train.shape, y_train.shape, X_test.shape, y_test.shape"
   ]
  },
  {
   "cell_type": "code",
   "execution_count": 3,
   "metadata": {},
   "outputs": [],
   "source": [
    "X_train = X_train.reshape(-1, 28*28)/255.\n",
    "X_test = X_test.reshape(-1, 28*28)/255.\n",
    "y_train = np.eye(10)[y_train]\n",
    "y_test = np.eye(10)[y_test]"
   ]
  },
  {
   "cell_type": "code",
   "execution_count": 4,
   "metadata": {},
   "outputs": [],
   "source": [
    "model = Sequential()\n",
    "model.add(Dense(10, input_shape=(784,),activation='softmax'))"
   ]
  },
  {
   "cell_type": "code",
   "execution_count": 5,
   "metadata": {},
   "outputs": [
    {
     "name": "stdout",
     "output_type": "stream",
     "text": [
      "Epoch 1/100\n",
      "1875/1875 [==============================] - 1s 511us/step - loss: 0.4374 - acc: 0.8829\n",
      "Epoch 2/100\n",
      "1875/1875 [==============================] - 1s 491us/step - loss: 0.3027 - acc: 0.9157\n",
      "Epoch 3/100\n",
      "1875/1875 [==============================] - 1s 500us/step - loss: 0.2896 - acc: 0.9204\n",
      "Epoch 4/100\n",
      "1875/1875 [==============================] - 1s 492us/step - loss: 0.2849 - acc: 0.9234\n",
      "Epoch 5/100\n",
      "1875/1875 [==============================] - 1s 490us/step - loss: 0.2818 - acc: 0.9247\n",
      "Epoch 6/100\n",
      "1875/1875 [==============================] - 1s 495us/step - loss: 0.2796 - acc: 0.9261\n",
      "Epoch 7/100\n",
      "1875/1875 [==============================] - 1s 487us/step - loss: 0.2790 - acc: 0.9270\n",
      "Epoch 8/100\n",
      "1875/1875 [==============================] - 1s 494us/step - loss: 0.2784 - acc: 0.9279\n",
      "Epoch 9/100\n",
      "1875/1875 [==============================] - 1s 487us/step - loss: 0.2786 - acc: 0.9285\n",
      "Epoch 10/100\n",
      "1875/1875 [==============================] - 1s 502us/step - loss: 0.2780 - acc: 0.9291\n",
      "Epoch 11/100\n",
      "1875/1875 [==============================] - 1s 490us/step - loss: 0.2789 - acc: 0.9299\n",
      "Epoch 12/100\n",
      "1875/1875 [==============================] - 1s 500us/step - loss: 0.2792 - acc: 0.9301\n",
      "Epoch 13/100\n",
      "1875/1875 [==============================] - 1s 497us/step - loss: 0.2800 - acc: 0.9307\n",
      "Epoch 14/100\n",
      "1875/1875 [==============================] - 1s 495us/step - loss: 0.2801 - acc: 0.9304\n",
      "Epoch 15/100\n",
      "1875/1875 [==============================] - 1s 490us/step - loss: 0.2800 - acc: 0.9313\n",
      "Epoch 16/100\n",
      "1875/1875 [==============================] - 1s 493us/step - loss: 0.2811 - acc: 0.9310\n",
      "Epoch 17/100\n",
      "1875/1875 [==============================] - 1s 496us/step - loss: 0.2819 - acc: 0.9307\n",
      "Epoch 18/100\n",
      "1875/1875 [==============================] - 1s 495us/step - loss: 0.2819 - acc: 0.9312\n",
      "Epoch 19/100\n",
      "1875/1875 [==============================] - 1s 494us/step - loss: 0.2821 - acc: 0.9312\n",
      "Epoch 20/100\n",
      "1875/1875 [==============================] - 1s 495us/step - loss: 0.2822 - acc: 0.9309\n",
      "Epoch 21/100\n",
      "1875/1875 [==============================] - 1s 498us/step - loss: 0.2833 - acc: 0.9312\n",
      "Epoch 22/100\n",
      "1875/1875 [==============================] - 1s 502us/step - loss: 0.2838 - acc: 0.9314\n",
      "Epoch 23/100\n",
      "1875/1875 [==============================] - 1s 506us/step - loss: 0.2835 - acc: 0.9319\n",
      "Epoch 24/100\n",
      "1875/1875 [==============================] - 1s 490us/step - loss: 0.2840 - acc: 0.9328\n",
      "Epoch 25/100\n",
      "1875/1875 [==============================] - 1s 500us/step - loss: 0.2848 - acc: 0.9321\n",
      "Epoch 26/100\n",
      "1875/1875 [==============================] - 1s 497us/step - loss: 0.2854 - acc: 0.9322\n",
      "Epoch 27/100\n",
      "1875/1875 [==============================] - 1s 494us/step - loss: 0.2855 - acc: 0.9324\n",
      "Epoch 28/100\n",
      "1875/1875 [==============================] - 1s 492us/step - loss: 0.2861 - acc: 0.9317\n",
      "Epoch 29/100\n",
      "1875/1875 [==============================] - 1s 497us/step - loss: 0.2862 - acc: 0.9322\n",
      "Epoch 30/100\n",
      "1875/1875 [==============================] - 1s 499us/step - loss: 0.2867 - acc: 0.9316\n",
      "Epoch 31/100\n",
      "1875/1875 [==============================] - 1s 509us/step - loss: 0.2871 - acc: 0.9326\n",
      "Epoch 32/100\n",
      "1875/1875 [==============================] - 1s 499us/step - loss: 0.2879 - acc: 0.9330\n",
      "Epoch 33/100\n",
      "1875/1875 [==============================] - 1s 504us/step - loss: 0.2877 - acc: 0.9334\n",
      "Epoch 34/100\n",
      "1875/1875 [==============================] - 1s 495us/step - loss: 0.2883 - acc: 0.9328\n",
      "Epoch 35/100\n",
      "1875/1875 [==============================] - 1s 491us/step - loss: 0.2877 - acc: 0.9335\n",
      "Epoch 36/100\n",
      "1875/1875 [==============================] - 1s 505us/step - loss: 0.2886 - acc: 0.9329\n",
      "Epoch 37/100\n",
      "1875/1875 [==============================] - 1s 496us/step - loss: 0.2892 - acc: 0.9326\n",
      "Epoch 38/100\n",
      "1875/1875 [==============================] - 1s 497us/step - loss: 0.2896 - acc: 0.9333\n",
      "Epoch 39/100\n",
      "1875/1875 [==============================] - 1s 507us/step - loss: 0.2898 - acc: 0.9332\n",
      "Epoch 40/100\n",
      "1875/1875 [==============================] - 1s 507us/step - loss: 0.2898 - acc: 0.9330\n",
      "Epoch 41/100\n",
      "1875/1875 [==============================] - 1s 490us/step - loss: 0.2905 - acc: 0.9334\n",
      "Epoch 42/100\n",
      "1875/1875 [==============================] - 1s 564us/step - loss: 0.2901 - acc: 0.9336\n",
      "Epoch 43/100\n",
      "1875/1875 [==============================] - 1s 491us/step - loss: 0.2906 - acc: 0.9337\n",
      "Epoch 44/100\n",
      "1875/1875 [==============================] - 1s 500us/step - loss: 0.2908 - acc: 0.9337\n",
      "Epoch 45/100\n",
      "1875/1875 [==============================] - 1s 506us/step - loss: 0.2911 - acc: 0.9337\n",
      "Epoch 46/100\n",
      "1875/1875 [==============================] - 1s 506us/step - loss: 0.2920 - acc: 0.9330\n",
      "Epoch 47/100\n",
      "1875/1875 [==============================] - 1s 545us/step - loss: 0.2917 - acc: 0.9331\n",
      "Epoch 48/100\n",
      "1875/1875 [==============================] - 1s 507us/step - loss: 0.2926 - acc: 0.9343\n",
      "Epoch 49/100\n",
      "1875/1875 [==============================] - 1s 498us/step - loss: 0.2927 - acc: 0.9331\n",
      "Epoch 50/100\n",
      "1875/1875 [==============================] - 1s 509us/step - loss: 0.2922 - acc: 0.9331\n",
      "Epoch 51/100\n",
      "1875/1875 [==============================] - 1s 507us/step - loss: 0.2932 - acc: 0.9337\n",
      "Epoch 52/100\n",
      "1875/1875 [==============================] - 1s 493us/step - loss: 0.2934 - acc: 0.9340\n",
      "Epoch 53/100\n",
      "1875/1875 [==============================] - 1s 505us/step - loss: 0.2933 - acc: 0.9336\n",
      "Epoch 54/100\n",
      "1875/1875 [==============================] - 1s 497us/step - loss: 0.2925 - acc: 0.9339\n",
      "Epoch 55/100\n",
      "1875/1875 [==============================] - 1s 515us/step - loss: 0.2938 - acc: 0.9336\n",
      "Epoch 56/100\n",
      "1875/1875 [==============================] - 1s 504us/step - loss: 0.2938 - acc: 0.9340\n",
      "Epoch 57/100\n",
      "1875/1875 [==============================] - 1s 496us/step - loss: 0.2937 - acc: 0.9346\n",
      "Epoch 58/100\n",
      "1875/1875 [==============================] - 1s 503us/step - loss: 0.2938 - acc: 0.9340\n",
      "Epoch 59/100\n",
      "1875/1875 [==============================] - 1s 501us/step - loss: 0.2947 - acc: 0.9343\n",
      "Epoch 60/100\n",
      "1875/1875 [==============================] - 1s 495us/step - loss: 0.2951 - acc: 0.9340\n",
      "Epoch 61/100\n",
      "1875/1875 [==============================] - 1s 503us/step - loss: 0.2946 - acc: 0.9343\n",
      "Epoch 62/100\n",
      "1875/1875 [==============================] - 1s 507us/step - loss: 0.2950 - acc: 0.9341\n",
      "Epoch 63/100\n",
      "1875/1875 [==============================] - 1s 500us/step - loss: 0.2955 - acc: 0.9341\n",
      "Epoch 64/100\n",
      "1875/1875 [==============================] - 1s 500us/step - loss: 0.2954 - acc: 0.9342\n",
      "Epoch 65/100\n",
      "1875/1875 [==============================] - 1s 513us/step - loss: 0.2958 - acc: 0.9345\n",
      "Epoch 66/100\n",
      "1875/1875 [==============================] - 1s 502us/step - loss: 0.2956 - acc: 0.9337\n",
      "Epoch 67/100\n",
      "1875/1875 [==============================] - 1s 561us/step - loss: 0.2960 - acc: 0.9345\n",
      "Epoch 68/100\n",
      "1875/1875 [==============================] - 1s 539us/step - loss: 0.2965 - acc: 0.9340\n",
      "Epoch 69/100\n",
      "1875/1875 [==============================] - 1s 503us/step - loss: 0.2962 - acc: 0.9337\n",
      "Epoch 70/100\n",
      "1875/1875 [==============================] - 1s 495us/step - loss: 0.2963 - acc: 0.9344\n",
      "Epoch 71/100\n",
      "1875/1875 [==============================] - 1s 514us/step - loss: 0.2966 - acc: 0.9345\n",
      "Epoch 72/100\n",
      "1875/1875 [==============================] - 1s 517us/step - loss: 0.2966 - acc: 0.9345\n",
      "Epoch 73/100\n",
      "1875/1875 [==============================] - 1s 509us/step - loss: 0.2968 - acc: 0.9345\n",
      "Epoch 74/100\n",
      "1875/1875 [==============================] - 1s 517us/step - loss: 0.2974 - acc: 0.9342\n",
      "Epoch 75/100\n",
      "1875/1875 [==============================] - 1s 511us/step - loss: 0.2970 - acc: 0.9347\n",
      "Epoch 76/100\n",
      "1875/1875 [==============================] - 1s 508us/step - loss: 0.2976 - acc: 0.9341\n",
      "Epoch 77/100\n",
      "1875/1875 [==============================] - 1s 510us/step - loss: 0.2975 - acc: 0.9343\n",
      "Epoch 78/100\n",
      "1875/1875 [==============================] - 1s 519us/step - loss: 0.2974 - acc: 0.9340\n",
      "Epoch 79/100\n",
      "1875/1875 [==============================] - 1s 513us/step - loss: 0.2977 - acc: 0.9342\n",
      "Epoch 80/100\n",
      "1875/1875 [==============================] - 1s 508us/step - loss: 0.2974 - acc: 0.9344\n",
      "Epoch 81/100\n",
      "1875/1875 [==============================] - 1s 509us/step - loss: 0.2977 - acc: 0.9344\n",
      "Epoch 82/100\n",
      "1875/1875 [==============================] - 1s 500us/step - loss: 0.2981 - acc: 0.9350\n",
      "Epoch 83/100\n",
      "1875/1875 [==============================] - 1s 495us/step - loss: 0.2984 - acc: 0.9344\n",
      "Epoch 84/100\n",
      "1875/1875 [==============================] - 1s 501us/step - loss: 0.2985 - acc: 0.9346\n",
      "Epoch 85/100\n",
      "1875/1875 [==============================] - 1s 502us/step - loss: 0.2986 - acc: 0.9343\n",
      "Epoch 86/100\n",
      "1875/1875 [==============================] - 1s 502us/step - loss: 0.2989 - acc: 0.9345\n",
      "Epoch 87/100\n",
      "1875/1875 [==============================] - 1s 503us/step - loss: 0.2990 - acc: 0.9345\n",
      "Epoch 88/100\n",
      "1875/1875 [==============================] - 1s 601us/step - loss: 0.2987 - acc: 0.9345\n",
      "Epoch 89/100\n",
      "1875/1875 [==============================] - 1s 609us/step - loss: 0.2990 - acc: 0.9347\n",
      "Epoch 90/100\n",
      "1875/1875 [==============================] - 1s 573us/step - loss: 0.2992 - acc: 0.9350\n",
      "Epoch 91/100\n",
      "1875/1875 [==============================] - ETA: 0s - loss: 0.2993 - acc: 0.934 - 1s 507us/step - loss: 0.2996 - acc: 0.9348\n",
      "Epoch 92/100\n",
      "1875/1875 [==============================] - 1s 503us/step - loss: 0.2996 - acc: 0.9346\n",
      "Epoch 93/100\n",
      "1875/1875 [==============================] - 1s 513us/step - loss: 0.3002 - acc: 0.9346\n",
      "Epoch 94/100\n",
      "1875/1875 [==============================] - 1s 510us/step - loss: 0.2996 - acc: 0.9346\n",
      "Epoch 95/100\n",
      "1875/1875 [==============================] - 1s 509us/step - loss: 0.3001 - acc: 0.9343\n",
      "Epoch 96/100\n",
      "1875/1875 [==============================] - 1s 504us/step - loss: 0.2998 - acc: 0.9346\n",
      "Epoch 97/100\n",
      "1875/1875 [==============================] - 1s 511us/step - loss: 0.2999 - acc: 0.9349\n",
      "Epoch 98/100\n",
      "1875/1875 [==============================] - 1s 503us/step - loss: 0.3000 - acc: 0.9350\n",
      "Epoch 99/100\n",
      "1875/1875 [==============================] - 1s 500us/step - loss: 0.3006 - acc: 0.9343\n",
      "Epoch 100/100\n",
      "1875/1875 [==============================] - 1s 504us/step - loss: 0.3006 - acc: 0.9345\n"
     ]
    }
   ],
   "source": [
    "model.compile(loss='categorical_crossentropy', optimizer = 'rmsprop', metrics=['acc'])\n",
    "history = model.fit(X_train, y_train, epochs=100)"
   ]
  },
  {
   "cell_type": "code",
   "execution_count": 6,
   "metadata": {},
   "outputs": [
    {
     "data": {
      "text/plain": [
       "[<matplotlib.lines.Line2D at 0x26ac7491d00>]"
      ]
     },
     "execution_count": 6,
     "metadata": {},
     "output_type": "execute_result"
    },
    {
     "data": {
      "image/png": "[encoded data removed]",
      "text/plain": [
       "<Figure size 432x288 with 1 Axes>"
      ]
     },
     "metadata": {
      "needs_background": "light"
     },
     "output_type": "display_data"
    }
   ],
   "source": [
    "plt.plot(model.history.history['loss'])"
   ]
  },
  {
   "cell_type": "code",
   "execution_count": 7,
   "metadata": {},
   "outputs": [
    {
     "data": {
      "text/plain": [
       "[<matplotlib.lines.Line2D at 0x26ac7571d30>]"
      ]
     },
     "execution_count": 7,
     "metadata": {},
     "output_type": "execute_result"
    },
    {
     "data": {
      "image/png": "[encoded data removed]",
      "text/plain": [
       "<Figure size 432x288 with 1 Axes>"
      ]
     },
     "metadata": {
      "needs_background": "light"
     },
     "output_type": "display_data"
    }
   ],
   "source": [
    "plt.plot(model.history.history['acc'])"
   ]
  },
  {
   "cell_type": "code",
   "execution_count": 8,
   "metadata": {},
   "outputs": [
    {
     "data": {
      "text/plain": [
       "array([[1.2164822e-11, 1.3237303e-21, 2.6338801e-12, ..., 9.9998879e-01,\n",
       "        2.0769929e-11, 1.0292645e-05],\n",
       "       [7.4160442e-07, 2.2354909e-08, 9.9999106e-01, ..., 0.0000000e+00,\n",
       "        6.6786017e-16, 1.1280285e-36],\n",
       "       [1.9468821e-12, 9.9753714e-01, 1.8170780e-03, ..., 1.7097969e-09,\n",
       "        4.3255315e-04, 7.1190467e-09],\n",
       "       ...,\n",
       "       [2.6832500e-15, 2.5259416e-18, 1.3014482e-12, ..., 7.9228904e-04,\n",
       "        4.5872214e-03, 2.5092132e-02],\n",
       "       [1.8977060e-17, 1.3305164e-15, 1.1852008e-17, ..., 1.5414961e-15,\n",
       "        1.6361487e-03, 3.3082807e-16],\n",
       "       [5.0689158e-15, 9.6689318e-36, 5.2761143e-13, ..., 2.6035169e-23,\n",
       "        4.4139655e-19, 1.1810417e-23]], dtype=float32)"
      ]
     },
     "execution_count": 8,
     "metadata": {},
     "output_type": "execute_result"
    }
   ],
   "source": [
    "model.predict(X_test)"
   ]
  },
  {
   "cell_type": "code",
   "execution_count": 11,
   "metadata": {},
   "outputs": [
    {
     "data": {
      "text/plain": [
       "0.925"
      ]
     },
     "execution_count": 11,
     "metadata": {},
     "output_type": "execute_result"
    }
   ],
   "source": [
    "pred_y = model.predict(X_test)\n",
    "(pred_y.argmax(axis=1)==y_test.argmax(axis=1)).mean()"
   ]
  },
  {
   "cell_type": "code",
   "execution_count": 30,
   "metadata": {},
   "outputs": [
    {
     "data": {
      "text/plain": [
       "((784, 10), (10,))"
      ]
     },
     "execution_count": 30,
     "metadata": {},
     "output_type": "execute_result"
    }
   ],
   "source": [
    "ws = model.get_weights()\n",
    "ws[0].shape, ws[1].shape"
   ]
  },
  {
   "cell_type": "code",
   "execution_count": 34,
   "metadata": {},
   "outputs": [
    {
     "data": {
      "image/png": "[encoded data removed]",
      "text/plain": [
       "<Figure size 864x720 with 20 Axes>"
      ]
     },
     "metadata": {
      "needs_background": "light"
     },
     "output_type": "display_data"
    }
   ],
   "source": [
    "plt.figure(figsize=[12,10])\n",
    "\n",
    "for i in range(10):\n",
    "    plt.subplot(3,4,i+1)\n",
    "    plt.imshow(ws[0][:,i].reshape(28, 28), cmap='bwr')\n",
    "    plt.axis('off')\n",
    "    plt.title(i)\n",
    "    plt.colorbar()"
   ]
  },
  {
   "cell_type": "code",
   "execution_count": 35,
   "metadata": {},
   "outputs": [],
   "source": [
    "model = Sequential()\n",
    "model.add(Dense(128, activation='relu', input_shape=(784,)))\n",
    "model.add(Dense(256, activation='relu'))\n",
    "model.add(Dense(256, activation='relu'))\n",
    "model.add(Dense(10, activation='softmax'))"
   ]
  },
  {
   "cell_type": "code",
   "execution_count": 36,
   "metadata": {},
   "outputs": [
    {
     "name": "stdout",
     "output_type": "stream",
     "text": [
      "Model: \"sequential_1\"\n",
      "_________________________________________________________________\n",
      "Layer (type)                 Output Shape              Param #   \n",
      "=================================================================\n",
      "dense_1 (Dense)              (None, 128)               100480    \n",
      "_________________________________________________________________\n",
      "dense_2 (Dense)              (None, 256)               33024     \n",
      "_________________________________________________________________\n",
      "dense_3 (Dense)              (None, 256)               65792     \n",
      "_________________________________________________________________\n",
      "dense_4 (Dense)              (None, 10)                2570      \n",
      "=================================================================\n",
      "Total params: 201,866\n",
      "Trainable params: 201,866\n",
      "Non-trainable params: 0\n",
      "_________________________________________________________________\n"
     ]
    }
   ],
   "source": [
    "model.summary()"
   ]
  },
  {
   "cell_type": "code",
   "execution_count": 39,
   "metadata": {},
   "outputs": [
    {
     "name": "stdout",
     "output_type": "stream",
     "text": [
      "Epoch 1/10\n",
      "375/375 [==============================] - 1s 2ms/step - loss: 0.3121 - acc: 0.9038 - val_loss: 0.1758 - val_acc: 0.9473\n",
      "Epoch 2/10\n",
      "375/375 [==============================] - 1s 2ms/step - loss: 0.1241 - acc: 0.9620 - val_loss: 0.1023 - val_acc: 0.9686\n",
      "Epoch 3/10\n",
      "375/375 [==============================] - 1s 2ms/step - loss: 0.0834 - acc: 0.9739 - val_loss: 0.0941 - val_acc: 0.9721\n",
      "Epoch 4/10\n",
      "375/375 [==============================] - 1s 2ms/step - loss: 0.0644 - acc: 0.9800 - val_loss: 0.0972 - val_acc: 0.9728\n",
      "Epoch 5/10\n",
      "375/375 [==============================] - 1s 2ms/step - loss: 0.0478 - acc: 0.9845 - val_loss: 0.1300 - val_acc: 0.9680\n",
      "Epoch 6/10\n",
      "375/375 [==============================] - 1s 2ms/step - loss: 0.0387 - acc: 0.9879 - val_loss: 0.1057 - val_acc: 0.9748\n",
      "Epoch 7/10\n",
      "375/375 [==============================] - 1s 2ms/step - loss: 0.0314 - acc: 0.9900 - val_loss: 0.1223 - val_acc: 0.9737\n",
      "Epoch 8/10\n",
      "375/375 [==============================] - 1s 2ms/step - loss: 0.0261 - acc: 0.9914 - val_loss: 0.1134 - val_acc: 0.9763\n",
      "Epoch 9/10\n",
      "375/375 [==============================] - 1s 2ms/step - loss: 0.0215 - acc: 0.9928 - val_loss: 0.1377 - val_acc: 0.9728\n",
      "Epoch 10/10\n",
      "375/375 [==============================] - 1s 2ms/step - loss: 0.0184 - acc: 0.9944 - val_loss: 0.1185 - val_acc: 0.9782\n"
     ]
    },
    {
     "data": {
      "text/plain": [
       "<tensorflow.python.keras.callbacks.History at 0x26a9e5ef370>"
      ]
     },
     "execution_count": 39,
     "metadata": {},
     "output_type": "execute_result"
    }
   ],
   "source": [
    "model.compile(loss='categorical_crossentropy', optimizer='rmsprop', metrics=['acc'])\n",
    "model.fit(X_train, y_train, epochs=10, batch_size = 128, validation_split=0.2)"
   ]
  },
  {
   "cell_type": "code",
   "execution_count": 41,
   "metadata": {},
   "outputs": [
    {
     "data": {
      "text/plain": [
       "<matplotlib.legend.Legend at 0x26aa8b8bd00>"
      ]
     },
     "execution_count": 41,
     "metadata": {},
     "output_type": "execute_result"
    },
    {
     "data": {
      "image/png": "[encoded data removed]",
      "text/plain": [
       "<Figure size 432x288 with 1 Axes>"
      ]
     },
     "metadata": {
      "needs_background": "light"
     },
     "output_type": "display_data"
    }
   ],
   "source": [
    "plt.plot(model.history.history['acc'])\n",
    "plt.plot(model.history.history['val_acc'])\n",
    "plt.title('Accuracy')\n",
    "plt.xlabel(\"epoch\")\n",
    "plt.legend(['acc','val_acc'])"
   ]
  },
  {
   "cell_type": "code",
   "execution_count": 42,
   "metadata": {},
   "outputs": [
    {
     "data": {
      "text/plain": [
       "<matplotlib.legend.Legend at 0x26a9dfffdc0>"
      ]
     },
     "execution_count": 42,
     "metadata": {},
     "output_type": "execute_result"
    },
    {
     "data": {
      "image/png": "[encoded data removed]",
      "text/plain": [
       "<Figure size 432x288 with 1 Axes>"
      ]
     },
     "metadata": {
      "needs_background": "light"
     },
     "output_type": "display_data"
    }
   ],
   "source": [
    "plt.plot(model.history.history['loss'])\n",
    "plt.plot(model.history.history['val_loss'])\n",
    "plt.title('Loss')\n",
    "plt.xlabel(\"epoch\")\n",
    "plt.legend(['loss','val_loss'])"
   ]
  },
  {
   "cell_type": "code",
   "execution_count": 43,
   "metadata": {},
   "outputs": [],
   "source": [
    "model.save('mnist_model_01.h5') # creates a HDF5 file"
   ]
  },
  {
   "cell_type": "code",
   "execution_count": 44,
   "metadata": {},
   "outputs": [],
   "source": [
    "from keras.models import load_model\n",
    "model2 = load_model('mnist_model_01.h5')"
   ]
  },
  {
   "cell_type": "code",
   "execution_count": 45,
   "metadata": {},
   "outputs": [
    {
     "name": "stdout",
     "output_type": "stream",
     "text": [
      "Model: \"sequential_1\"\n",
      "_________________________________________________________________\n",
      "Layer (type)                 Output Shape              Param #   \n",
      "=================================================================\n",
      "dense_1 (Dense)              (None, 128)               100480    \n",
      "_________________________________________________________________\n",
      "dense_2 (Dense)              (None, 256)               33024     \n",
      "_________________________________________________________________\n",
      "dense_3 (Dense)              (None, 256)               65792     \n",
      "_________________________________________________________________\n",
      "dense_4 (Dense)              (None, 10)                2570      \n",
      "=================================================================\n",
      "Total params: 201,866\n",
      "Trainable params: 201,866\n",
      "Non-trainable params: 0\n",
      "_________________________________________________________________\n"
     ]
    }
   ],
   "source": [
    "model2.summary()"
   ]
  },
  {
   "cell_type": "code",
   "execution_count": 46,
   "metadata": {},
   "outputs": [
    {
     "data": {
      "text/plain": [
       "array([[1.32408372e-11, 1.27987551e-10, 8.37268260e-07, ...,\n",
       "        9.99995112e-01, 3.01595993e-09, 3.50655512e-07],\n",
       "       [5.29701301e-26, 5.99819538e-14, 1.00000000e+00, ...,\n",
       "        2.39220866e-19, 4.07358405e-20, 1.09476474e-27],\n",
       "       [3.05939695e-14, 9.99999881e-01, 1.26177357e-09, ...,\n",
       "        1.64958038e-07, 3.24656853e-08, 2.91497798e-11],\n",
       "       ...,\n",
       "       [1.59211362e-20, 8.19851660e-17, 1.14785610e-18, ...,\n",
       "        5.80822228e-13, 3.16836677e-17, 7.22600313e-11],\n",
       "       [1.00094444e-19, 2.89556641e-19, 2.75832200e-21, ...,\n",
       "        2.50474061e-17, 1.29283997e-12, 6.60103237e-15],\n",
       "       [4.24671328e-20, 1.24336340e-28, 1.25137439e-24, ...,\n",
       "        5.22666683e-31, 4.04362982e-18, 2.94164313e-22]], dtype=float32)"
      ]
     },
     "execution_count": 46,
     "metadata": {},
     "output_type": "execute_result"
    }
   ],
   "source": [
    "model2.predict(X_test)"
   ]
  },
  {
   "cell_type": "code",
   "execution_count": 47,
   "metadata": {},
   "outputs": [
    {
     "data": {
      "text/plain": [
       "0.5978370007556204"
      ]
     },
     "execution_count": 47,
     "metadata": {},
     "output_type": "execute_result"
    }
   ],
   "source": [
    "-np.log(0.55)"
   ]
  },
  {
   "cell_type": "code",
   "execution_count": 50,
   "metadata": {},
   "outputs": [],
   "source": [
    "# -np.log(0)"
   ]
  },
  {
   "cell_type": "code",
   "execution_count": 53,
   "metadata": {},
   "outputs": [
    {
     "data": {
      "text/plain": [
       "[<matplotlib.lines.Line2D at 0x26aa0ccadf0>]"
      ]
     },
     "execution_count": 53,
     "metadata": {},
     "output_type": "execute_result"
    },
    {
     "data": {
      "image/png": "[encoded data removed]",
      "text/plain": [
       "<Figure size 432x288 with 1 Axes>"
      ]
     },
     "metadata": {
      "needs_background": "light"
     },
     "output_type": "display_data"
    }
   ],
   "source": [
    "x = np.arange(0.00001, 1, 0.001)\n",
    "y = -np.log(x)\n",
    "plt.plot(x, y)"
   ]
  },
  {
   "cell_type": "code",
   "execution_count": null,
   "metadata": {},
   "outputs": [],
   "source": []
  }
 ],
 "metadata": {
  "kernelspec": {
   "display_name": "Python 3",
   "language": "python",
   "name": "python3"
  },
  "language_info": {
   "codemirror_mode": {
    "name": "ipython",
    "version": 3
   },
   "file_extension": ".py",
   "mimetype": "text/x-python",
   "name": "python",
   "nbconvert_exporter": "python",
   "pygments_lexer": "ipython3",
   "version": "3.8.5"
  }
 },
 "nbformat": 4,
 "nbformat_minor": 4
}
