{
 "cells": [
  {
   "cell_type": "code",
   "execution_count": 1,
   "metadata": {},
   "outputs": [],
   "source": [
    "import numpy as np\n",
    "import matplotlib\n",
    "import matplotlib.pyplot as plt\n",
    "import pandas as pd\n",
    "import math\n",
    "import os\n",
    "import tensorflow as tf\n",
    "from tensorflow import keras\n",
    "os.chdir('C:\\\\Users\\\\leekj\\\\Desktop\\\\programming\\\\learn_python\\\\tensorflow')\n",
    "from tensorflow.keras.models import Sequential\n",
    "from tensorflow.keras.layers import Dense\n",
    "from tensorflow.keras.optimizers import SGD, RMSprop, Adagrad, Adam"
   ]
  },
  {
   "cell_type": "code",
   "execution_count": 5,
   "metadata": {},
   "outputs": [
    {
     "name": "stdout",
     "output_type": "stream",
     "text": [
      "Model: \"sequential_3\"\n",
      "_________________________________________________________________\n",
      "Layer (type)                 Output Shape              Param #   \n",
      "=================================================================\n",
      "conv2d_3 (Conv2D)            (None, 32, 32, 32)        896       \n",
      "_________________________________________________________________\n",
      "max_pooling2d_2 (MaxPooling2 (None, 16, 16, 32)        0         \n",
      "_________________________________________________________________\n",
      "flatten_2 (Flatten)          (None, 8192)              0         \n",
      "_________________________________________________________________\n",
      "dense_2 (Dense)              (None, 10)                81930     \n",
      "=================================================================\n",
      "Total params: 82,826\n",
      "Trainable params: 82,826\n",
      "Non-trainable params: 0\n",
      "_________________________________________________________________\n"
     ]
    }
   ],
   "source": [
    "model = keras.models.Sequential() # ㅇㅇ\n",
    "model.add(keras.layers.Conv2D(32, (3,3), padding='same',\n",
    "                             activation = 'relu', input_shape=(32,32,3))) # 필터 개수 = 32 / 필터 사이즈 = 3*3 / 렐루 함수 적용 / 원본 크기 = 32,28,3\n",
    "model.add(keras.layers.MaxPooling2D((2,2))) # 격자로 만들어서 풀어줌 / 가로/세로 2칸으로 나누겠다는 뜻 -> 높이, 넓이 1/2이 됨\n",
    "model.add(keras.layers.Flatten()) # 평면으로 풀어줌\n",
    "model.add(keras.layers.Dense(10, activation='softmax')) # \n",
    "\n",
    "model.summary()"
   ]
  },
  {
   "cell_type": "code",
   "execution_count": 9,
   "metadata": {},
   "outputs": [
    {
     "name": "stdout",
     "output_type": "stream",
     "text": [
      "Model: \"sequential_7\"\n",
      "_________________________________________________________________\n",
      "Layer (type)                 Output Shape              Param #   \n",
      "=================================================================\n",
      "conv2d_12 (Conv2D)           (None, 32, 32, 32)        896       \n",
      "_________________________________________________________________\n",
      "max_pooling2d_10 (MaxPooling (None, 16, 16, 32)        0         \n",
      "_________________________________________________________________\n",
      "dropout_8 (Dropout)          (None, 16, 16, 32)        0         \n",
      "_________________________________________________________________\n",
      "conv2d_13 (Conv2D)           (None, 16, 16, 64)        18496     \n",
      "_________________________________________________________________\n",
      "max_pooling2d_11 (MaxPooling (None, 8, 8, 64)          0         \n",
      "_________________________________________________________________\n",
      "dropout_9 (Dropout)          (None, 8, 8, 64)          0         \n",
      "_________________________________________________________________\n",
      "conv2d_14 (Conv2D)           (None, 8, 8, 128)         73856     \n",
      "_________________________________________________________________\n",
      "max_pooling2d_12 (MaxPooling (None, 4, 4, 128)         0         \n",
      "_________________________________________________________________\n",
      "dropout_10 (Dropout)         (None, 4, 4, 128)         0         \n",
      "_________________________________________________________________\n",
      "flatten_4 (Flatten)          (None, 2048)              0         \n",
      "_________________________________________________________________\n",
      "dense_5 (Dense)              (None, 128)               262272    \n",
      "_________________________________________________________________\n",
      "dropout_11 (Dropout)         (None, 128)               0         \n",
      "_________________________________________________________________\n",
      "dense_6 (Dense)              (None, 10)                1290      \n",
      "=================================================================\n",
      "Total params: 356,810\n",
      "Trainable params: 356,810\n",
      "Non-trainable params: 0\n",
      "_________________________________________________________________\n"
     ]
    }
   ],
   "source": [
    "model = keras.models.Sequential()\n",
    "model.add(keras.layers.Conv2D(32, (3,3), padding='same', input_shape=(32,32,3), activation = 'relu')) # 필터 개수 = 32ㅣ 필터 사이즈 = 3*3 / 렐루함수 / 원본 = 32*32*\n",
    "model.add(keras.layers.MaxPooling2D((2,2))) # 16*16*32\n",
    "model.add(keras.layers.Dropout(0.25)) # 25% 를 누락\n",
    "model.add(keras.layers.Conv2D(64, (3, 3), padding='same', activation = 'relu')) # 16*16*64\n",
    "model.add(keras.layers.MaxPooling2D((2,2))) # 8*8*64\n",
    "model.add(keras.layers.Dropout(0.25)) # 25% 를 누락\n",
    "model.add(keras.layers.Conv2D(128, (3, 3), padding='same', activation = 'relu')) # 8*8*128\n",
    "model.add(keras.layers.MaxPooling2D((2,2))) # 4*4*128\n",
    "model.add(keras.layers.Dropout(0.25)) # 25% 를 누락\n",
    "\n",
    "model.add(keras.layers.Flatten()) # 4*4*128 = 2048\n",
    "model.add(keras.layers.Dense(128, activation='relu')) # 128\n",
    "model.add(keras.layers.Dropout(0.5)) # 50% 를 누락\n",
    "model.add(keras.layers.Dense(10, activation='softmax')) # 10\n",
    "\n",
    "model.summary()"
   ]
  },
  {
   "cell_type": "code",
   "execution_count": 10,
   "metadata": {},
   "outputs": [],
   "source": [
    "model = keras.models.Sequential()\n",
    "model.add(keras.layers.Conv2D(32, (3, 3), padding='same', input))"
   ]
  },
  {
   "cell_type": "code",
   "execution_count": null,
   "metadata": {},
   "outputs": [],
   "source": []
  }
 ],
 "metadata": {
  "kernelspec": {
   "display_name": "Python 3",
   "language": "python",
   "name": "python3"
  },
  "language_info": {
   "codemirror_mode": {
    "name": "ipython",
    "version": 3
   },
   "file_extension": ".py",
   "mimetype": "text/x-python",
   "name": "python",
   "nbconvert_exporter": "python",
   "pygments_lexer": "ipython3",
   "version": "3.8.5"
  }
 },
 "nbformat": 4,
 "nbformat_minor": 4
}
