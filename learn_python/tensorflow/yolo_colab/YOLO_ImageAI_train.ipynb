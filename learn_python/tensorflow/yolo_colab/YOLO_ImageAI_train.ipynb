{
  "nbformat": 4,
  "nbformat_minor": 0,
  "metadata": {
    "colab": {
      "name": "YOLO_ImageAI_train.ipynb",
      "provenance": [],
      "collapsed_sections": []
    },
    "kernelspec": {
      "name": "python3",
      "display_name": "Python 3"
    },
    "language_info": {
      "name": "python"
    },
    "accelerator": "GPU"
  },
  "cells": [
    {
      "cell_type": "markdown",
      "metadata": {
        "id": "khmCvj45-nDp"
      },
      "source": [
        "# YOLO 와 ImageAI 를 이용한 전이학습"
      ]
    },
    {
      "cell_type": "code",
      "metadata": {
        "colab": {
          "base_uri": "https://localhost:8080/"
        },
        "id": "R2JMy4ShoXyo",
        "outputId": "e4854aed-267e-475f-d4a4-91a282f9ded7"
      },
      "source": [
        "from google.colab import drive\n",
        "\n",
        "drive.mount('/content/drive')"
      ],
      "execution_count": null,
      "outputs": [
        {
          "output_type": "stream",
          "text": [
            "Mounted at /content/drive\n"
          ],
          "name": "stdout"
        }
      ]
    },
    {
      "cell_type": "code",
      "metadata": {
        "colab": {
          "base_uri": "https://localhost:8080/"
        },
        "id": "pkogVzp7oi71",
        "outputId": "35c032bf-0254-4462-e8b4-4b5951450e51"
      },
      "source": [
        "! ls -F /content/drive/MyDrive"
      ],
      "execution_count": null,
      "outputs": [
        {
          "output_type": "stream",
          "text": [
            " 풍경001.gif\n",
            "'메모2 (1).md'\n",
            " 메모2.md\n",
            " annotations.tar.gz\n",
            " cafe2.jpg\n",
            " catch_colab.h5\n",
            " cats_and_dogs_model_2.h5\n",
            " cats_and_dogs_small/\n",
            " cats_and_dogs_small.zip\n",
            "'Colab Notebooks'/\n",
            " dataset.txt\n",
            "'Deep Learning based Recommender Systems _ by James Loy _ Towards Data Science.mhtml'\n",
            "'Deep Learning based Recommender Systems _ Kaggle.mhtml'\n",
            " eng_fra_model_colab.h5\n",
            " fra.txt\n",
            " 안녕하세요.gdoc\n",
            " 오케이.gslides\n",
            " ImageAI/\n",
            " image_segmentation_final.h5\n",
            " image_segmentation.h5\n",
            " images.tar.gz\n",
            " 김세준_증명사진_보정.jpg\n",
            " PlayCatchGame.py.gdoc\n",
            " preview_full.jpg\n",
            " rating.csv.zip\n",
            " 지능설계.txt\n"
          ],
          "name": "stdout"
        }
      ]
    },
    {
      "cell_type": "code",
      "metadata": {
        "colab": {
          "base_uri": "https://localhost:8080/"
        },
        "id": "6p-NKnnrokSW",
        "outputId": "b032a2b2-857e-452e-dc68-bb2d1d26be38"
      },
      "source": [
        "! pip install imageai --upgrade # 설치 후 런타임 재시작"
      ],
      "execution_count": null,
      "outputs": [
        {
          "output_type": "stream",
          "text": [
            "Requirement already up-to-date: imageai in /usr/local/lib/python3.7/dist-packages (2.1.6)\n",
            "Requirement already satisfied, skipping upgrade: pillow==7.0.0 in /usr/local/lib/python3.7/dist-packages (from imageai) (7.0.0)\n",
            "Requirement already satisfied, skipping upgrade: matplotlib==3.3.2 in /usr/local/lib/python3.7/dist-packages (from imageai) (3.3.2)\n",
            "Requirement already satisfied, skipping upgrade: h5py==2.10.0 in /usr/local/lib/python3.7/dist-packages (from imageai) (2.10.0)\n",
            "Requirement already satisfied, skipping upgrade: keras-resnet==0.2.0 in /usr/local/lib/python3.7/dist-packages (from imageai) (0.2.0)\n",
            "Requirement already satisfied, skipping upgrade: scipy==1.4.1 in /usr/local/lib/python3.7/dist-packages (from imageai) (1.4.1)\n",
            "Requirement already satisfied, skipping upgrade: numpy==1.19.3 in /usr/local/lib/python3.7/dist-packages (from imageai) (1.19.3)\n",
            "Requirement already satisfied, skipping upgrade: keras==2.4.3 in /usr/local/lib/python3.7/dist-packages (from imageai) (2.4.3)\n",
            "Requirement already satisfied, skipping upgrade: opencv-python in /usr/local/lib/python3.7/dist-packages (from imageai) (4.1.2.30)\n",
            "Requirement already satisfied, skipping upgrade: kiwisolver>=1.0.1 in /usr/local/lib/python3.7/dist-packages (from matplotlib==3.3.2->imageai) (1.3.1)\n",
            "Requirement already satisfied, skipping upgrade: certifi>=2020.06.20 in /usr/local/lib/python3.7/dist-packages (from matplotlib==3.3.2->imageai) (2020.12.5)\n",
            "Requirement already satisfied, skipping upgrade: python-dateutil>=2.1 in /usr/local/lib/python3.7/dist-packages (from matplotlib==3.3.2->imageai) (2.8.1)\n",
            "Requirement already satisfied, skipping upgrade: pyparsing!=2.0.4,!=2.1.2,!=2.1.6,>=2.0.3 in /usr/local/lib/python3.7/dist-packages (from matplotlib==3.3.2->imageai) (2.4.7)\n",
            "Requirement already satisfied, skipping upgrade: cycler>=0.10 in /usr/local/lib/python3.7/dist-packages (from matplotlib==3.3.2->imageai) (0.10.0)\n",
            "Requirement already satisfied, skipping upgrade: six in /usr/local/lib/python3.7/dist-packages (from h5py==2.10.0->imageai) (1.15.0)\n",
            "Requirement already satisfied, skipping upgrade: pyyaml in /usr/local/lib/python3.7/dist-packages (from keras==2.4.3->imageai) (3.13)\n"
          ],
          "name": "stdout"
        }
      ]
    },
    {
      "cell_type": "code",
      "metadata": {
        "colab": {
          "base_uri": "https://localhost:8080/"
        },
        "id": "TRkKqgAcpixs",
        "outputId": "0bd832e0-6a81-48f3-cd69-46a7ea68e440"
      },
      "source": [
        "! ls -F /usr/local/lib/python3.7/dist-packages/imageai/Detection/YOLO"
      ],
      "execution_count": null,
      "outputs": [
        {
          "output_type": "stream",
          "text": [
            "__init__.py  __pycache__/  utils.py  yolov3.py\n"
          ],
          "name": "stdout"
        }
      ]
    },
    {
      "cell_type": "code",
      "metadata": {
        "colab": {
          "base_uri": "https://localhost:8080/"
        },
        "id": "lHsXgZeFp4k2",
        "outputId": "486f277b-0600-46f6-c129-aa469d244d57"
      },
      "source": [
        "import os\n",
        "os.chdir('/content/drive/MyDrive/ImageAI')\n",
        "! pwd"
      ],
      "execution_count": null,
      "outputs": [
        {
          "output_type": "stream",
          "text": [
            "/content/drive/MyDrive/ImageAI\n"
          ],
          "name": "stdout"
        }
      ]
    },
    {
      "cell_type": "code",
      "metadata": {
        "colab": {
          "base_uri": "https://localhost:8080/"
        },
        "id": "FlHvdZyqqgJ2",
        "outputId": "5acaebaf-d160-4bd4-d948-9ba1cc03847f"
      },
      "source": [
        "! ls"
      ],
      "execution_count": null,
      "outputs": [
        {
          "output_type": "stream",
          "text": [
            "1.useImageAI.ipynb    image2.jpg\t    test.mp4\t\t   yolo.h5\n",
            "2.trainImageAI.ipynb  image2new.jpg\t    traffic_detected2.avi\n",
            "hololens\t      pretrained-yolov3.h5  traffic_detected.avi\n",
            "hololens.zip\t      test_detected.avi     traffic.mp4\n"
          ],
          "name": "stdout"
        }
      ]
    },
    {
      "cell_type": "markdown",
      "metadata": {
        "id": "oiOXTPz1rs2k"
      },
      "source": [
        "### 데이터와 사전훈련된 모델 다운로드\n",
        "- https://github.com/OlafenwaMoses/ImageAI/releases/tag/essential-v4\n",
        "- 위 사이트에서 hololens.zip, pretrained-yolov3.h5 다운로드"
      ]
    },
    {
      "cell_type": "code",
      "metadata": {
        "id": "Y6JvnbHVvBey"
      },
      "source": [
        "#! wget https://github.com/OlafenwaMoses/ImageAI/releases/download/essential-v4/pretrained-yolov3.h5\n",
        "#! wget https://github.com/OlafenwaMoses/ImageAI/releases/download/essential-v4/hololens.zip\n",
        "#! unzip hololens.zip"
      ],
      "execution_count": null,
      "outputs": []
    },
    {
      "cell_type": "code",
      "metadata": {
        "id": "cV6DzStktkVt"
      },
      "source": [
        ""
      ],
      "execution_count": null,
      "outputs": []
    },
    {
      "cell_type": "markdown",
      "metadata": {
        "id": "755a3Awby5Td"
      },
      "source": [
        "### 훈련하기\n",
        "- 코랩은 최대 12시간 동안 작동 (액션이 없으면 90분) \n",
        "- 코랩 연결끊김 방지 =>\n",
        "https://teddylee777.github.io/colab/google-colab-%EB%9F%B0%ED%83%80%EC%9E%84-%EC%97%B0%EA%B2%B0%EB%81%8A%EA%B9%80%EB%B0%A9%EC%A7%80"
      ]
    },
    {
      "cell_type": "code",
      "metadata": {
        "id": "bxiEf0AhqhcB"
      },
      "source": [
        "from imageai.Detection.Custom import DetectionModelTrainer"
      ],
      "execution_count": null,
      "outputs": []
    },
    {
      "cell_type": "code",
      "metadata": {
        "id": "uewqByojtk8f"
      },
      "source": [
        "class CustomDetectionTestModel(DetectionModelTrainer):\n",
        "    def get_config(self):\n",
        "        cfg = super().get_config()\n",
        "        return cfg"
      ],
      "execution_count": null,
      "outputs": []
    },
    {
      "cell_type": "code",
      "metadata": {
        "id": "Wjxb_aqEtpVV"
      },
      "source": [
        "trainer = DetectionModelTrainer()"
      ],
      "execution_count": null,
      "outputs": []
    },
    {
      "cell_type": "code",
      "metadata": {
        "id": "GeQWgsCIt2Zj"
      },
      "source": [
        "trainer.setModelTypeAsYOLOv3()"
      ],
      "execution_count": null,
      "outputs": []
    },
    {
      "cell_type": "code",
      "metadata": {
        "id": "gc3SYyhot7lD"
      },
      "source": [
        "trainer.setDataDirectory(data_directory=\"hololens\") # /content/drive/MyDrive/ImageAI/hololens"
      ],
      "execution_count": null,
      "outputs": []
    },
    {
      "cell_type": "code",
      "metadata": {
        "colab": {
          "base_uri": "https://localhost:8080/"
        },
        "id": "8RVslOfouFLz",
        "outputId": "11057b86-ad25-4da3-f76f-939459594cb4"
      },
      "source": [
        "# 한번 훈련하는 데 약 5분이 걸린다\n",
        "# 코랩의 사용시간 제한은 12시간이므로(액션이 없는 경우 90분), num_experiments 를 100 이상으로 하지 않는 것이 좋다\n",
        "\n",
        "trainer.setTrainConfig(object_names_array=[\"hololens\"], # 사물이 여러개이면 이름 여러개를 전달\n",
        "                       batch_size=4, \n",
        "                       num_experiments=100, \n",
        "                       train_from_pretrained_model=\"pretrained-yolov3.h5\")"
      ],
      "execution_count": null,
      "outputs": [
        {
          "output_type": "stream",
          "text": [
            "Generating anchor boxes for training images and annotation...\n",
            "Average IOU for 9 anchors: 0.77\n",
            "Anchor Boxes generated.\n",
            "Detection configuration saved in  hololens/json/detection_config.json\n"
          ],
          "name": "stdout"
        }
      ]
    },
    {
      "cell_type": "code",
      "metadata": {
        "colab": {
          "base_uri": "https://localhost:8080/"
        },
        "id": "gK_vKpcjwVE8",
        "outputId": "159517e2-241b-4fcb-e3bd-2e2a1249e1ed"
      },
      "source": [
        "# 훈련이 시작되면 loss 값이 줄어들 때 마다 hololens/models 폴더에 모델이 저장된다 => 지속적으로 삭제 필요함\n",
        "# detection_model-ex-001--loss-0040.150.h5 => 0040.150 이 loss 값을 나타냄\n",
        "# 훈련을 새로 시키면, 기존 파일을 그대로 둔채로 새로운 파일이 생성된다\n",
        "\n",
        "trainer.trainModel()"
      ],
      "execution_count": null,
      "outputs": [
        {
          "output_type": "stream",
          "text": [
            "Evaluating over 59 samples taken from hololens/validation\n",
            "Training over 240 samples  given at hololens/train\n",
            "WARNING:tensorflow:`period` argument is deprecated. Please use `save_freq` to specify the frequency in number of batches seen.\n",
            "WARNING:tensorflow:`epsilon` argument is deprecated and will be removed, use `min_delta` instead.\n"
          ],
          "name": "stdout"
        },
        {
          "output_type": "stream",
          "text": [
            "/usr/local/lib/python3.7/dist-packages/tensorflow/python/keras/optimizer_v2/optimizer_v2.py:375: UserWarning: The `lr` argument is deprecated, use `learning_rate` instead.\n",
            "  \"The `lr` argument is deprecated, use `learning_rate` instead.\")\n"
          ],
          "name": "stderr"
        },
        {
          "output_type": "stream",
          "text": [
            "WARNING:tensorflow:Model failed to serialize as JSON. Ignoring... Layer YoloLayer has arguments in `__init__` and therefore must override `get_config`.\n"
          ],
          "name": "stdout"
        },
        {
          "output_type": "stream",
          "text": [
            "/usr/local/lib/python3.7/dist-packages/tensorflow/python/keras/engine/training.py:1940: UserWarning: `Model.fit_generator` is deprecated and will be removed in a future version. Please use `Model.fit`, which supports generators.\n",
            "  warnings.warn('`Model.fit_generator` is deprecated and '\n",
            "/usr/local/lib/python3.7/dist-packages/tensorflow/python/data/ops/dataset_ops.py:3704: UserWarning: Even though the `tf.config.experimental_run_functions_eagerly` option is set, this option does not apply to tf.data functions. To force eager execution of tf.data functions, please use `tf.data.experimental.enable.debug_mode()`.\n",
            "  \"Even though the `tf.config.experimental_run_functions_eagerly` \"\n",
            "/usr/local/lib/python3.7/dist-packages/tensorflow/python/keras/utils/generic_utils.py:497: CustomMaskWarning: Custom mask layers require a config and must override get_config. When loading, the custom mask layer must be passed to the custom_objects argument.\n",
            "  category=CustomMaskWarning)\n"
          ],
          "name": "stderr"
        },
        {
          "output_type": "stream",
          "text": [
            "Epoch 1/100\n",
            "480/480 [==============================] - 272s 566ms/step - loss: 37.0251 - yolo_layer_6_loss: 5.3514 - yolo_layer_7_loss: 10.0085 - yolo_layer_8_loss: 10.9733 - val_loss: 25.1287 - val_yolo_layer_6_loss: 4.3494 - val_yolo_layer_7_loss: 6.8443 - val_yolo_layer_8_loss: 5.4294\n",
            "WARNING:tensorflow:Compiled the loaded model, but the compiled metrics have yet to be built. `model.compile_metrics` will be empty until you train or evaluate the model.\n",
            "Epoch 2/100\n",
            "480/480 [==============================] - 275s 572ms/step - loss: 23.1002 - yolo_layer_6_loss: 4.1094 - yolo_layer_7_loss: 6.5998 - yolo_layer_8_loss: 5.4939 - val_loss: 71.7733 - val_yolo_layer_6_loss: 44.7983 - val_yolo_layer_7_loss: 11.5762 - val_yolo_layer_8_loss: 9.6136\n",
            "WARNING:tensorflow:Compiled the loaded model, but the compiled metrics have yet to be built. `model.compile_metrics` will be empty until you train or evaluate the model.\n",
            "Epoch 3/100\n",
            "480/480 [==============================] - 269s 561ms/step - loss: 20.6506 - yolo_layer_6_loss: 3.9566 - yolo_layer_7_loss: 5.8248 - yolo_layer_8_loss: 5.5579 - val_loss: 69.8738 - val_yolo_layer_6_loss: 53.4846 - val_yolo_layer_7_loss: 5.6117 - val_yolo_layer_8_loss: 5.7994\n",
            "WARNING:tensorflow:Compiled the loaded model, but the compiled metrics have yet to be built. `model.compile_metrics` will be empty until you train or evaluate the model.\n",
            "Epoch 4/100\n",
            "480/480 [==============================] - 270s 562ms/step - loss: 19.5805 - yolo_layer_6_loss: 4.0794 - yolo_layer_7_loss: 5.4385 - yolo_layer_8_loss: 5.3548 - val_loss: 19.3947 - val_yolo_layer_6_loss: 4.9587 - val_yolo_layer_7_loss: 5.0618 - val_yolo_layer_8_loss: 4.9361\n",
            "WARNING:tensorflow:Compiled the loaded model, but the compiled metrics have yet to be built. `model.compile_metrics` will be empty until you train or evaluate the model.\n",
            "Epoch 5/100\n",
            "480/480 [==============================] - 265s 551ms/step - loss: 18.6409 - yolo_layer_6_loss: 4.1241 - yolo_layer_7_loss: 4.9738 - yolo_layer_8_loss: 5.3106 - val_loss: 18.4911 - val_yolo_layer_6_loss: 4.7769 - val_yolo_layer_7_loss: 4.9458 - val_yolo_layer_8_loss: 4.7173\n",
            "WARNING:tensorflow:Compiled the loaded model, but the compiled metrics have yet to be built. `model.compile_metrics` will be empty until you train or evaluate the model.\n",
            "Epoch 6/100\n",
            "480/480 [==============================] - 264s 550ms/step - loss: 18.5148 - yolo_layer_6_loss: 4.3252 - yolo_layer_7_loss: 4.7969 - yolo_layer_8_loss: 5.4951 - val_loss: 30.2969 - val_yolo_layer_6_loss: 14.9269 - val_yolo_layer_7_loss: 5.8326 - val_yolo_layer_8_loss: 5.7922\n",
            "WARNING:tensorflow:Compiled the loaded model, but the compiled metrics have yet to be built. `model.compile_metrics` will be empty until you train or evaluate the model.\n",
            "Epoch 7/100\n",
            "480/480 [==============================] - 260s 542ms/step - loss: 17.6808 - yolo_layer_6_loss: 3.8856 - yolo_layer_7_loss: 4.7518 - yolo_layer_8_loss: 5.4291 - val_loss: 17.9298 - val_yolo_layer_6_loss: 5.0454 - val_yolo_layer_7_loss: 4.3450 - val_yolo_layer_8_loss: 5.0444\n",
            "WARNING:tensorflow:Compiled the loaded model, but the compiled metrics have yet to be built. `model.compile_metrics` will be empty until you train or evaluate the model.\n",
            "Epoch 8/100\n",
            "480/480 [==============================] - 266s 552ms/step - loss: 17.6120 - yolo_layer_6_loss: 4.3467 - yolo_layer_7_loss: 4.4245 - yolo_layer_8_loss: 5.4344 - val_loss: 18.1050 - val_yolo_layer_6_loss: 4.3345 - val_yolo_layer_7_loss: 4.6287 - val_yolo_layer_8_loss: 5.8212\n",
            "WARNING:tensorflow:Compiled the loaded model, but the compiled metrics have yet to be built. `model.compile_metrics` will be empty until you train or evaluate the model.\n",
            "Epoch 9/100\n",
            "480/480 [==============================] - 266s 554ms/step - loss: 17.3700 - yolo_layer_6_loss: 4.4919 - yolo_layer_7_loss: 4.4080 - yolo_layer_8_loss: 5.2421 - val_loss: 17.6684 - val_yolo_layer_6_loss: 4.9212 - val_yolo_layer_7_loss: 4.6704 - val_yolo_layer_8_loss: 4.9451\n",
            "WARNING:tensorflow:Compiled the loaded model, but the compiled metrics have yet to be built. `model.compile_metrics` will be empty until you train or evaluate the model.\n",
            "Epoch 10/100\n",
            "480/480 [==============================] - 258s 537ms/step - loss: 16.8784 - yolo_layer_6_loss: 3.9621 - yolo_layer_7_loss: 4.2631 - yolo_layer_8_loss: 5.5954 - val_loss: 17.7937 - val_yolo_layer_6_loss: 4.1537 - val_yolo_layer_7_loss: 4.7759 - val_yolo_layer_8_loss: 5.8787\n",
            "WARNING:tensorflow:Compiled the loaded model, but the compiled metrics have yet to be built. `model.compile_metrics` will be empty until you train or evaluate the model.\n",
            "Epoch 11/100\n",
            " 37/480 [=>............................] - ETA: 3:41 - loss: 17.8862 - yolo_layer_6_loss: 4.1108 - yolo_layer_7_loss: 4.5189 - yolo_layer_8_loss: 6.2727"
          ],
          "name": "stdout"
        }
      ]
    },
    {
      "cell_type": "code",
      "metadata": {
        "id": "zt55DMCGzOSn"
      },
      "source": [
        ""
      ],
      "execution_count": null,
      "outputs": []
    },
    {
      "cell_type": "markdown",
      "metadata": {
        "id": "fvA1DZwO73sY"
      },
      "source": [
        "### 모델 평가\n",
        "- hololens/models 폴더에 저장된 모델들을 평가함\n",
        "- hololens/validation 폴더의 이미지를 사용해 검증"
      ]
    },
    {
      "cell_type": "code",
      "metadata": {
        "colab": {
          "base_uri": "https://localhost:8080/"
        },
        "id": "QxLnIkQTzOG3",
        "outputId": "664914db-7ccc-49f1-f09f-0fba5a0f1f83"
      },
      "source": [
        "trainer = DetectionModelTrainer()\n",
        "trainer.setModelTypeAsYOLOv3()\n",
        "trainer.setDataDirectory(data_directory=\"hololens\")\n",
        "metrics = trainer.evaluateModel(model_path=\"hololens/models\",\n",
        "                                json_path=\"hololens/json/detection_config.json\", \n",
        "                                iou_threshold=0.5,\n",
        "                                object_threshold=0.3,\n",
        "                                nms_threshold=0.5)"
      ],
      "execution_count": null,
      "outputs": [
        {
          "output_type": "stream",
          "text": [
            "Starting Model evaluation....\n",
            "Evaluating over 59 samples taken from hololens/validation\n",
            "Training over 240 samples  given at hololens/train\n",
            "WARNING:tensorflow:No training configuration found in the save file, so the model was *not* compiled. Compile it manually.\n"
          ],
          "name": "stdout"
        },
        {
          "output_type": "stream",
          "text": [
            "/usr/local/lib/python3.7/dist-packages/imageai/Detection/Custom/utils/utils.py:204: RuntimeWarning: overflow encountered in exp\n",
            "  w = anchors[2 * b + 0] * np.exp(w) / net_w  # unit: image width\n"
          ],
          "name": "stderr"
        },
        {
          "output_type": "stream",
          "text": [
            "skipping the evaluation of hololens/models/detection_model-ex-001--loss-0038.394.h5 because following exception occurred: cannot convert float infinity to integer\n",
            "WARNING:tensorflow:No training configuration found in the save file, so the model was *not* compiled. Compile it manually.\n",
            "Model File:  hololens/models/detection_model-ex-002--loss-0022.433.h5 \n",
            "\n",
            "Evaluation samples:  59\n",
            "Using IoU:  0.5\n",
            "Using Object Threshold:  0.3\n",
            "Using Non-Maximum Suppression:  0.5\n",
            "hololens: 0.0449\n",
            "mAP: 0.0449\n",
            "===============================\n",
            "WARNING:tensorflow:No training configuration found in the save file, so the model was *not* compiled. Compile it manually.\n",
            "Model File:  hololens/models/detection_model-ex-003--loss-0019.704.h5 \n",
            "\n",
            "Evaluation samples:  59\n",
            "Using IoU:  0.5\n",
            "Using Object Threshold:  0.3\n",
            "Using Non-Maximum Suppression:  0.5\n",
            "hololens: 0.1595\n",
            "mAP: 0.1595\n",
            "===============================\n"
          ],
          "name": "stdout"
        }
      ]
    },
    {
      "cell_type": "code",
      "metadata": {
        "colab": {
          "base_uri": "https://localhost:8080/"
        },
        "id": "wxUhgYsHw3p_",
        "outputId": "6e29b18c-7dab-484f-a494-9b0382e3c3dd"
      },
      "source": [
        "for i, detection in enumerate(metrics):\n",
        "    print(f\"\\n{i+1}th detection =========== \")\n",
        "    for k, v in detection.items():\n",
        "        print(f\"{k} : {str(v)}\")"
      ],
      "execution_count": null,
      "outputs": [
        {
          "output_type": "stream",
          "text": [
            "\n",
            "1th detection =========== \n",
            "model_file : hololens/models/detection_model-ex-002--loss-0022.433.h5\n",
            "using_iou : 0.5\n",
            "using_object_threshold : 0.3\n",
            "using_non_maximum_suppression : 0.5\n",
            "average_precision : {'hololens': 0.04489992854048153}\n",
            "evaluation_samples : 59\n",
            "map : 0.04489992854048153\n",
            "\n",
            "2th detection =========== \n",
            "model_file : hololens/models/detection_model-ex-003--loss-0019.704.h5\n",
            "using_iou : 0.5\n",
            "using_object_threshold : 0.3\n",
            "using_non_maximum_suppression : 0.5\n",
            "average_precision : {'hololens': 0.15952121059715355}\n",
            "evaluation_samples : 59\n",
            "map : 0.15952121059715355\n"
          ],
          "name": "stdout"
        }
      ]
    },
    {
      "cell_type": "code",
      "metadata": {
        "colab": {
          "base_uri": "https://localhost:8080/"
        },
        "id": "MFt8JZbx87cG",
        "outputId": "de2f0c41-9c12-476e-f721-461873288b84"
      },
      "source": [
        "for i, detection in enumerate(metrics):\n",
        "    print('%s => %s' % (detection['model_file'], detection['average_precision']))"
      ],
      "execution_count": null,
      "outputs": [
        {
          "output_type": "stream",
          "text": [
            "hololens/models/detection_model-ex-002--loss-0022.433.h5 => {'hololens': 0.04489992854048153}\n",
            "hololens/models/detection_model-ex-003--loss-0019.704.h5 => {'hololens': 0.15952121059715355}\n"
          ],
          "name": "stdout"
        }
      ]
    },
    {
      "cell_type": "code",
      "metadata": {
        "id": "t4ByPIZ99YMO"
      },
      "source": [
        ""
      ],
      "execution_count": null,
      "outputs": []
    }
  ]
}